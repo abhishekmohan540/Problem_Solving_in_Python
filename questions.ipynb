{
 "cells": [
  {
   "cell_type": "markdown",
   "id": "ba6541c7",
   "metadata": {},
   "source": [
    "1. Print the first 5 positive integers in ascending order with one number \n",
    "in each line"
   ]
  },
  {
   "cell_type": "code",
   "execution_count": 2,
   "id": "ac9a5702",
   "metadata": {},
   "outputs": [
    {
     "name": "stdout",
     "output_type": "stream",
     "text": [
      "1\n",
      "2\n",
      "3\n",
      "4\n",
      "5\n"
     ]
    }
   ],
   "source": [
    "for i in range(1,6):\n",
    "    print(i)"
   ]
  },
  {
   "cell_type": "markdown",
   "id": "a99ffd47",
   "metadata": {},
   "source": [
    "2. Print the following pattern\n",
    "*\n",
    "**\n",
    "***\n",
    "****\n",
    "*****\n",
    "There are no spaces between consecutive stars. There are no spaces \n",
    "at the end of each line."
   ]
  },
  {
   "cell_type": "code",
   "execution_count": 3,
   "id": "23a6b72d",
   "metadata": {},
   "outputs": [
    {
     "name": "stdout",
     "output_type": "stream",
     "text": [
      "*\n",
      "**\n",
      "***\n",
      "****\n",
      "*****\n"
     ]
    }
   ],
   "source": [
    "i = 1\n",
    "while i<=5:\n",
    "    print(i*\"*\")\n",
    "    i = i+1"
   ]
  },
  {
   "cell_type": "markdown",
   "id": "6728fde9",
   "metadata": {},
   "source": [
    "3. Accept an integer as input and print its square as output."
   ]
  },
  {
   "cell_type": "code",
   "execution_count": 4,
   "id": "06a39af7",
   "metadata": {},
   "outputs": [
    {
     "name": "stdout",
     "output_type": "stream",
     "text": [
      "Enter interger: 5\n",
      "25\n"
     ]
    }
   ],
   "source": [
    "x = int(input(\"Enter interger: \"))\n",
    "print(x**2)"
   ]
  },
  {
   "cell_type": "code",
   "execution_count": 5,
   "id": "25e2a5e5",
   "metadata": {},
   "outputs": [
    {
     "name": "stdout",
     "output_type": "stream",
     "text": [
      "Enter interger: 10\n",
      "100\n"
     ]
    }
   ],
   "source": [
    "x = int(input(\"Enter interger: \"))\n",
    "print(x**2)"
   ]
  },
  {
   "cell_type": "markdown",
   "id": "76582bbd",
   "metadata": {},
   "source": [
    "4.Accept two integers as input and print their sum as output."
   ]
  },
  {
   "cell_type": "code",
   "execution_count": 6,
   "id": "2e32ce27",
   "metadata": {},
   "outputs": [
    {
     "name": "stdout",
     "output_type": "stream",
     "text": [
      "enter num1: 25\n",
      "enetr num2: 35\n",
      "60\n"
     ]
    }
   ],
   "source": [
    "x = int(input(\"enter num1: \"))\n",
    "y = int(input(\"enetr num2: \"))\n",
    "\n",
    "print(x+y)"
   ]
  },
  {
   "cell_type": "markdown",
   "id": "1602a518",
   "metadata": {},
   "source": [
    "5. Accept two words as input and print the two words after adding a \n",
    "space between them"
   ]
  },
  {
   "cell_type": "code",
   "execution_count": 7,
   "id": "d25d9efb",
   "metadata": {},
   "outputs": [
    {
     "name": "stdout",
     "output_type": "stream",
     "text": [
      "enter a word: abhi\n",
      "enter another word: mohan\n",
      "abhi mohan\n"
     ]
    }
   ],
   "source": [
    "x = input(\"enter a word: \")\n",
    "y = input(\"enter another word: \")\n",
    "print(x+ \" \"+y)"
   ]
  },
  {
   "cell_type": "markdown",
   "id": "2757bafe",
   "metadata": {},
   "source": [
    "6. Accept the registration number of a vehicle as input and print its \n",
    "state-code as output."
   ]
  },
  {
   "cell_type": "code",
   "execution_count": 8,
   "id": "986020ab",
   "metadata": {},
   "outputs": [
    {
     "name": "stdout",
     "output_type": "stream",
     "text": [
      "DL123456\n",
      "DL\n"
     ]
    }
   ],
   "source": [
    "s = input()\n",
    "print(s[0:2])"
   ]
  },
  {
   "cell_type": "markdown",
   "id": "7a2a9560",
   "metadata": {},
   "source": [
    "7.Accept a five-digit number as input and print the sum of its digits as \n",
    "output."
   ]
  },
  {
   "cell_type": "code",
   "execution_count": 2,
   "id": "43b3ef37",
   "metadata": {},
   "outputs": [
    {
     "name": "stdout",
     "output_type": "stream",
     "text": [
      "Enetr five digit number: 12345\n",
      "15\n"
     ]
    }
   ],
   "source": [
    "x = input(\"Enetr five digit number: \")\n",
    "sum = 0\n",
    "for i in x:\n",
    "    sum = sum + int(i)\n",
    "print(sum)    "
   ]
  },
  {
   "cell_type": "code",
   "execution_count": 3,
   "id": "4d4e302c",
   "metadata": {},
   "outputs": [
    {
     "name": "stdout",
     "output_type": "stream",
     "text": [
      "Enetr five digit number: 25463\n",
      "20\n"
     ]
    }
   ],
   "source": [
    "x = input(\"Enetr five digit number: \")\n",
    "sum = 0\n",
    "for i in x:\n",
    "    sum = sum + int(i)\n",
    "print(sum)    "
   ]
  },
  {
   "cell_type": "markdown",
   "id": "2f3dd3f5",
   "metadata": {},
   "source": [
    "8.Accept five words as input and print the sentence formed by these \n",
    "words after adding a space between consecutive words and a full stop \n",
    "at the end."
   ]
  },
  {
   "cell_type": "code",
   "execution_count": 2,
   "id": "dbc0c310",
   "metadata": {},
   "outputs": [
    {
     "name": "stdout",
     "output_type": "stream",
     "text": [
      "enter word1:cat\n",
      "enter word2:is\n",
      "enter word3:a\n",
      "enter word4:pet\n",
      "enter word5:animal\n",
      "cat is a pet animal.\n"
     ]
    }
   ],
   "source": [
    "w1 = input(\"enter word1:\")\n",
    "w2 = input(\"enter word2:\")\n",
    "w3 = input(\"enter word3:\")\n",
    "w4 = input(\"enter word4:\")\n",
    "w5 = input(\"enter word5:\")\n",
    "\n",
    "print(w1+\" \"+w2+\" \"+w3+\" \"+w4+\" \"+w5+\".\")"
   ]
  },
  {
   "cell_type": "markdown",
   "id": "f5d17e86",
   "metadata": {},
   "source": [
    "9.Accept the date in DD-MM-YYYY format as input and print the \n",
    "year as output."
   ]
  },
  {
   "cell_type": "code",
   "execution_count": 3,
   "id": "569a5492",
   "metadata": {},
   "outputs": [
    {
     "name": "stdout",
     "output_type": "stream",
     "text": [
      "enter date in dd-mm-yyyy: 12022022\n",
      "2022\n"
     ]
    }
   ],
   "source": [
    "date = input(\"enter date in dd-mm-yyyy: \")\n",
    "print(date[4:])"
   ]
  },
  {
   "cell_type": "markdown",
   "id": "95a69fbc",
   "metadata": {},
   "source": [
    "10.Accept a sequence of five single digit numbers separated by commas \n",
    "as input. Print the product of all five numbers."
   ]
  },
  {
   "cell_type": "code",
   "execution_count": 5,
   "id": "d7690690",
   "metadata": {},
   "outputs": [
    {
     "name": "stdout",
     "output_type": "stream",
     "text": [
      "enter five numbers: 5\n",
      "enter five numbers: 4\n",
      "enter five numbers: 3\n",
      "enter five numbers: 2\n",
      "enter five numbers: 1\n",
      "120\n"
     ]
    }
   ],
   "source": [
    "prod = 1\n",
    "for i in range(1,6):\n",
    "    x = int(input(\"enter five numbers: \"))   \n",
    "    prod = prod * x\n",
    "print(prod)    "
   ]
  },
  {
   "cell_type": "markdown",
   "id": "b9e42755",
   "metadata": {},
   "source": [
    "11. Accept two positive integers x and y as input. Print the number of \n",
    "digits in xy (x to the power y)"
   ]
  },
  {
   "cell_type": "code",
   "execution_count": 7,
   "id": "fa1cb95d",
   "metadata": {},
   "outputs": [
    {
     "name": "stdout",
     "output_type": "stream",
     "text": [
      "enter num1: 10\n",
      "enter num2: 3\n"
     ]
    },
    {
     "data": {
      "text/plain": [
       "4"
      ]
     },
     "execution_count": 7,
     "metadata": {},
     "output_type": "execute_result"
    }
   ],
   "source": [
    "a = int(input(\"enter num1: \"))\n",
    "b = int(input(\"enter num2: \"))\n",
    "x= a**b\n",
    "y= str(x)\n",
    "len(y)\n",
    "\n"
   ]
  },
  {
   "cell_type": "markdown",
   "id": "eda870ac",
   "metadata": {},
   "source": [
    "12. Accept a string as input. If the input string is of odd length, then \n",
    "continue with it. If the input string is of even length, make the \n",
    "string of odd length as below:\n",
    "• If the last character is a period (.), then remove it \n",
    "• If the last character is not a period, then add a period (.) to the \n",
    "end of the string\n",
    "Call this string of odd length word. Select a substring made up of \n",
    "three consecutive characters from word such that there are an \n",
    "equal number of characters to the left and right of this substring. \n",
    "Print this substring as output. You can assume that all input \n",
    "strings will be in lower case and will have a length of at least four"
   ]
  },
  {
   "cell_type": "code",
   "execution_count": 13,
   "id": "d64fa6db",
   "metadata": {},
   "outputs": [
    {
     "name": "stdout",
     "output_type": "stream",
     "text": [
      "hello\n",
      "ell\n"
     ]
    }
   ],
   "source": [
    "s = input()\n",
    "n = len(s)\n",
    "if n%2 == 0:\n",
    "    if s[n-1] == \".\":\n",
    "        s = s[:-1]\n",
    "    else:\n",
    "        s=s+\".\"\n",
    "n = int((len(s)-1)/2)\n",
    "print(s[n-1:n+2])"
   ]
  },
  {
   "cell_type": "code",
   "execution_count": 12,
   "id": "480817ac",
   "metadata": {},
   "outputs": [
    {
     "name": "stdout",
     "output_type": "stream",
     "text": [
      "hello.\n",
      "ell\n"
     ]
    }
   ],
   "source": [
    "s = input()\n",
    "n = len(s)\n",
    "if n%2 == 0:\n",
    "    if s[n-1] == \".\":\n",
    "        s = s[:-1]\n",
    "    else:\n",
    "        s=s+\".\"\n",
    "n = int((len(s)-1)/2)\n",
    "print(s[n-1:n+2])"
   ]
  },
  {
   "cell_type": "code",
   "execution_count": 11,
   "id": "ac279335",
   "metadata": {},
   "outputs": [
    {
     "name": "stdout",
     "output_type": "stream",
     "text": [
      "hi\n",
      "hi.\n"
     ]
    }
   ],
   "source": [
    "s = input()\n",
    "n = len(s)\n",
    "if n%2 == 0:\n",
    "    if s[n-1] == \".\":\n",
    "        s = s[:-1]\n",
    "    else:\n",
    "        s=s+\".\"\n",
    "n = int((len(s)-1)/2)\n",
    "print(s[n-1:n+2])"
   ]
  },
  {
   "cell_type": "markdown",
   "id": "3f0d57fe",
   "metadata": {},
   "source": [
    "13. Accept three positive integers as input and check if they form the \n",
    "sides of a right triangle. Print YES if they form one, and NO is they do \n",
    "not. The input will have three lines, with one integer on each line. \n",
    "The output should be a single line containing one of these two \n",
    "strings: YES or NO."
   ]
  },
  {
   "cell_type": "code",
   "execution_count": 15,
   "id": "c2eabdf8",
   "metadata": {},
   "outputs": [
    {
     "name": "stdout",
     "output_type": "stream",
     "text": [
      "enter side1:3\n",
      "enter side2:4\n",
      "enter side3:5\n",
      "YES\n"
     ]
    }
   ],
   "source": [
    "a= int(input(\"enter side1:\"))\n",
    "b= int(input(\"enter side2:\"))\n",
    "c= int(input(\"enter side3:\"))\n",
    "\n",
    "if a**2==b**2 + c**2 or b**2 == c**2 + a**2 or c**2 == a**2 + b**2:\n",
    "    print(\"YES\")\n",
    "else:\n",
    "    print(\"NO\")"
   ]
  },
  {
   "cell_type": "code",
   "execution_count": 16,
   "id": "009385f0",
   "metadata": {},
   "outputs": [
    {
     "name": "stdout",
     "output_type": "stream",
     "text": [
      "enter side1:10\n",
      "enter side2:15\n",
      "enter side3:14\n",
      "NO\n"
     ]
    }
   ],
   "source": [
    "a= int(input(\"enter side1:\"))\n",
    "b= int(input(\"enter side2:\"))\n",
    "c= int(input(\"enter side3:\"))\n",
    "\n",
    "if a**2==b**2 + c**2 or b**2 == c**2 + a**2 or c**2 == a**2 + b**2:\n",
    "    print(\"YES\")\n",
    "else:\n",
    "    print(\"NO\")"
   ]
  },
  {
   "cell_type": "markdown",
   "id": "0315b5ad",
   "metadata": {},
   "source": [
    "14. EvenOdd is a tech startup. Each employee at the startup is given an employee id which is a unique \n",
    "positive integer. On one warm Sunday evening, five employees of the company come together for a \n",
    "meeting and sit at a circular table:\n",
    "The employees follow a strange convention. They will continue the meeting only if the following \n",
    "condition is satisfied.\n",
    "The sum of the employee-ids of every pair of adjacent employees at the table must be an even \n",
    "number.\n",
    "They are so lazy that they won’t move around to satisfy the above condition, If the current seating \n",
    "plan doesn’t satisfy the condition, the meeting will be cancelled. You are given the employee-id of all \n",
    "five employees. Your task is to decide if the meeting happened or not.\n",
    "The input will be five lined, each containing an integer. The ith line will have the employee-id of Ei. \n",
    "The output will be a single line containing one of these two strings: YES or NO"
   ]
  },
  {
   "cell_type": "code",
   "execution_count": 19,
   "id": "3e3a0d62",
   "metadata": {},
   "outputs": [
    {
     "name": "stdout",
     "output_type": "stream",
     "text": [
      "2\n",
      "4\n",
      "6\n",
      "8\n",
      "10\n",
      "YES\n"
     ]
    }
   ],
   "source": [
    "E1 = int(input())\n",
    "E2 = int(input())\n",
    "E3 = int(input())\n",
    "E4 = int(input())\n",
    "E5 = int(input())\n",
    "\n",
    "if (E1+E2)%2==0 and (E2+E3)%2==0 and (E3+E4)%2==0 and (E4+E5)%2==0 and (E5+E1)%2==0:\n",
    "    print(\"YES\")\n",
    "else:\n",
    "    print(\"NO\")\n",
    "    "
   ]
  },
  {
   "cell_type": "code",
   "execution_count": 20,
   "id": "97638dc4",
   "metadata": {},
   "outputs": [
    {
     "name": "stdout",
     "output_type": "stream",
     "text": [
      "1\n",
      "2\n",
      "4\n",
      "6\n",
      "8\n",
      "NO\n"
     ]
    }
   ],
   "source": [
    "E1 = int(input())\n",
    "E2 = int(input())\n",
    "E3 = int(input())\n",
    "E4 = int(input())\n",
    "E5 = int(input())\n",
    "\n",
    "if (E1+E2)%2==0 and (E2+E3)%2==0 and (E3+E4)%2==0 and (E4+E5)%2==0 and (E5+E1)%2==0:\n",
    "    print(\"YES\")\n",
    "else:\n",
    "    print(\"NO\")\n",
    "    "
   ]
  },
  {
   "cell_type": "markdown",
   "id": "81d87254",
   "metadata": {},
   "source": [
    "15. Accept a string as input and print the vowels present in the string in \n",
    "alphabetical order. If the string doesn’t contain any vowels, then \n",
    "print the string none as output. Each vowel that appears in the input \n",
    "string – irrespective of its case should appear just once in lower case \n",
    "in the output"
   ]
  },
  {
   "cell_type": "code",
   "execution_count": 39,
   "id": "6814c29d",
   "metadata": {},
   "outputs": [
    {
     "name": "stdout",
     "output_type": "stream",
     "text": [
      "enter a string: elephant\n",
      "['a', 'e']\n"
     ]
    }
   ],
   "source": [
    "string = input(\"enter a string: \")\n",
    "vowel = []\n",
    "if \"a\" in string:\n",
    "    vowel += \"a\"\n",
    "if \"e\" in string:\n",
    "    vowel += \"e\" \n",
    "if \"i\" in string:\n",
    "    vowel += \"i\"\n",
    "if \"o\" in string:\n",
    "    vowel += \"o\"\n",
    "if \"u\" in string:\n",
    "    vowel += \"u\"\n",
    "print(vowel)"
   ]
  },
  {
   "cell_type": "code",
   "execution_count": 40,
   "id": "b9146466",
   "metadata": {},
   "outputs": [
    {
     "name": "stdout",
     "output_type": "stream",
     "text": [
      "enter a string: iNeuron\n",
      "['e', 'i', 'o', 'u']\n"
     ]
    }
   ],
   "source": [
    "string = input(\"enter a string: \")\n",
    "vowel = []\n",
    "if \"a\" in string:\n",
    "    vowel += \"a\"\n",
    "if \"e\" in string:\n",
    "    vowel += \"e\" \n",
    "if \"i\" in string:\n",
    "    vowel += \"i\"\n",
    "if \"o\" in string:\n",
    "    vowel += \"o\"\n",
    "if \"u\" in string:\n",
    "    vowel += \"u\"\n",
    "print(vowel)"
   ]
  },
  {
   "cell_type": "markdown",
   "id": "9ee1b719",
   "metadata": {},
   "source": [
    "16.You are given the date of birth of two persons, not necessarily from \n",
    "the same family. Your task is to find the younger of the two. If both \n",
    "of them share the same date of birth, then the younger of the two is \n",
    "assumed to be that person whose name comes first in alphabetical \n",
    "order.\n",
    "The input will have four lines. The first two lines correspond to the \n",
    "first person, while the last two lines correspond to the second \n",
    "person. For each person, the first line corresponds to the name and \n",
    "the second line corresponds to the date of birth in “DD-MM-YYYY” \n",
    "format. Your output should be the name of the younger of the two."
   ]
  },
  {
   "cell_type": "code",
   "execution_count": 43,
   "id": "7e634f39",
   "metadata": {},
   "outputs": [
    {
     "name": "stdout",
     "output_type": "stream",
     "text": [
      "enter name: Abhishek\n",
      "enter DOB in dd/mm/yyyy: 12/08/1997\n",
      "enter name:Mohan\n",
      "enter DOB in dd/mm/yyyy:15/08/2000\n",
      "Mohan is younger\n"
     ]
    }
   ],
   "source": [
    "x =input(\"enter name: \")\n",
    "y= input(\"enter DOB in dd/mm/yyyy: \")\n",
    "a= input(\"enter name:\")\n",
    "b =input(\"enter DOB in dd/mm/yyyy:\")\n",
    "\n",
    "if y == b:\n",
    "    print(\"Both have same DOB\")\n",
    "    if x<a:\n",
    "        print(f\"{x} is younger\")\n",
    "    else:\n",
    "        print(f\"{a} is younger\")\n",
    "\n",
    "if y[-4:]>b[-4:]:\n",
    "    print(f\"{x} is younger\")\n",
    "else:\n",
    "    print(f\"{a} is younger\")\n",
    "        \n",
    "if y[-4:]==b[-4:]:\n",
    "    if y[3:5]>b[3:5]:\n",
    "            print(f\"{x} is younger\")\n",
    "    else:   \n",
    "            print(f\"{a} is younger\")\n",
    "\n",
    "if y[-4:]==b[-4:] and y[3:5]==b[3:5]:\n",
    "    if y[0:2]>b[0:2]:\n",
    "        print(f\"{x} is younger\")\n",
    "    else:\n",
    "        print(f\"{a} is younger\")"
   ]
  },
  {
   "cell_type": "code",
   "execution_count": 44,
   "id": "c221fa7c",
   "metadata": {},
   "outputs": [
    {
     "name": "stdout",
     "output_type": "stream",
     "text": [
      "enter name: shyam\n",
      "enter DOB in dd/mm/yyyy: 25/12/2022\n",
      "enter name:ram\n",
      "enter DOB in dd/mm/yyyy:25/12/2022\n",
      "Both have same DOB\n",
      "ram is younger\n",
      "ram is younger\n",
      "ram is younger\n",
      "ram is younger\n"
     ]
    }
   ],
   "source": [
    "x =input(\"enter name: \")\n",
    "y= input(\"enter DOB in dd/mm/yyyy: \")\n",
    "a= input(\"enter name:\")\n",
    "b =input(\"enter DOB in dd/mm/yyyy:\")\n",
    "\n",
    "if y == b:\n",
    "    print(\"Both have same DOB\")\n",
    "    if x<a:\n",
    "        print(f\"{x} is younger\")\n",
    "    else:\n",
    "        print(f\"{a} is younger\")\n",
    "\n",
    "if y[-4:]>b[-4:]:\n",
    "    print(f\"{x} is younger\")\n",
    "else:\n",
    "    print(f\"{a} is younger\")\n",
    "        \n",
    "if y[-4:]==b[-4:]:\n",
    "    if y[3:5]>b[3:5]:\n",
    "            print(f\"{x} is younger\")\n",
    "    else:   \n",
    "            print(f\"{a} is younger\")\n",
    "\n",
    "if y[-4:]==b[-4:] and y[3:5]==b[3:5]:\n",
    "    if y[0:2]>b[0:2]:\n",
    "        print(f\"{x} is younger\")\n",
    "    else:\n",
    "        print(f\"{a} is younger\")"
   ]
  },
  {
   "cell_type": "code",
   "execution_count": 45,
   "id": "b9e6e5a3",
   "metadata": {},
   "outputs": [
    {
     "name": "stdout",
     "output_type": "stream",
     "text": [
      "enter name: john\n",
      "enter DOB in dd/mm/yyyy: 10/02/1988\n",
      "enter name:mathew\n",
      "enter DOB in dd/mm/yyyy:25/02/1988\n",
      "mathew is younger\n",
      "mathew is younger\n",
      "mathew is younger\n"
     ]
    }
   ],
   "source": [
    "x =input(\"enter name: \")\n",
    "y= input(\"enter DOB in dd/mm/yyyy: \")\n",
    "a= input(\"enter name:\")\n",
    "b =input(\"enter DOB in dd/mm/yyyy:\")\n",
    "\n",
    "if y == b:\n",
    "    print(\"Both have same DOB\")\n",
    "    if x<a:\n",
    "        print(f\"{x} is younger\")\n",
    "    else:\n",
    "        print(f\"{a} is younger\")\n",
    "\n",
    "if y[-4:]>b[-4:]:\n",
    "    print(f\"{x} is younger\")\n",
    "else:\n",
    "    print(f\"{a} is younger\")\n",
    "        \n",
    "if y[-4:]==b[-4:]:\n",
    "    if y[3:5]>b[3:5]:\n",
    "            print(f\"{x} is younger\")\n",
    "    else:   \n",
    "            print(f\"{a} is younger\")\n",
    "\n",
    "if y[-4:]==b[-4:] and y[3:5]==b[3:5]:\n",
    "    if y[0:2]>b[0:2]:\n",
    "        print(f\"{x} is younger\")\n",
    "    else:\n",
    "        print(f\"{a} is younger\")"
   ]
  },
  {
   "cell_type": "markdown",
   "id": "6edcf6e5",
   "metadata": {},
   "source": [
    "17.Accept a string as input. Your task is to determine if the input string is a valid password or not. For a \n",
    "string to be a valid password, it must satisfy all the conditions given below:\n",
    "(1) It should have at least 8 and at most 32 characters\n",
    "(2) It should start with an uppercase or lowercase letter\n",
    "(3) It should not have any of these characters: / \\ = ' \"\n",
    "(4) It should not have spaces\n",
    "It could have any character that is not mentioned in the list of characters to be avoided (points 3 and \n",
    "4). Output True if the string forms a valid password and False otherwise"
   ]
  },
  {
   "cell_type": "code",
   "execution_count": 9,
   "id": "7d08446b",
   "metadata": {},
   "outputs": [
    {
     "name": "stdout",
     "output_type": "stream",
     "text": [
      "Enter your password: /abhishek\\\n",
      "False\n"
     ]
    }
   ],
   "source": [
    "x = input(\"Enter your password: \")\n",
    "if 8<=len(x)<=32 and x[0].isalpha()==True and \"/\" not in x and \"\\\\\" not in x and  \"=\" not in x and \"'\" not in x and \"\\\"\" not in x and x.isspace()==False:\n",
    "    print(\"True\")\n",
    "else:\n",
    "    print(\"False\")"
   ]
  },
  {
   "cell_type": "code",
   "execution_count": 10,
   "id": "2034cd5b",
   "metadata": {},
   "outputs": [
    {
     "name": "stdout",
     "output_type": "stream",
     "text": [
      "Enter your password: =abhishek\n",
      "False\n"
     ]
    }
   ],
   "source": [
    "x = input(\"Enter your password: \")\n",
    "if 8<=len(x)<=32 and x[0].isalpha()==True and \"/\" not in x and \"\\\\\" not in x and  \"=\" not in x and \"'\" not in x and \"\\\"\" not in x and x.isspace()==False:\n",
    "    print(\"True\")\n",
    "else:\n",
    "    print(\"False\")"
   ]
  },
  {
   "cell_type": "code",
   "execution_count": 26,
   "id": "bc48fa9c",
   "metadata": {},
   "outputs": [
    {
     "name": "stdout",
     "output_type": "stream",
     "text": [
      "Enter your password: abhishek\n",
      "True\n"
     ]
    }
   ],
   "source": [
    "x = input(\"Enter your password: \")\n",
    "if 8<=len(x)<=32 and x[0].isalpha()==True and \"/\" not in x and \"\\\\\" not in x and  \"=\" not in x and \"'\" not in x and \"\\\"\" not in x and x.isspace()==False:\n",
    "    print(\"True\")\n",
    "else:\n",
    "    print(\"False\")"
   ]
  },
  {
   "cell_type": "code",
   "execution_count": 19,
   "id": "04d54639",
   "metadata": {},
   "outputs": [
    {
     "name": "stdout",
     "output_type": "stream",
     "text": [
      "It has space\n"
     ]
    }
   ],
   "source": [
    "x = \"abhi mohan\"\n",
    "for i in x:\n",
    "    if i.isspace()==True:\n",
    "        print(\"It has space\")"
   ]
  },
  {
   "cell_type": "code",
   "execution_count": 22,
   "id": "8824d37a",
   "metadata": {},
   "outputs": [
    {
     "name": "stdout",
     "output_type": "stream",
     "text": [
      "No space\n"
     ]
    }
   ],
   "source": [
    "x = \"abhi mohan\"\n",
    "if x.isspace()==True:\n",
    "        print(\"It has space\")\n",
    "else:\n",
    "    print(\"No space\")"
   ]
  },
  {
   "cell_type": "code",
   "execution_count": 23,
   "id": "f7c0ebc1",
   "metadata": {},
   "outputs": [
    {
     "data": {
      "text/plain": [
       "False"
      ]
     },
     "execution_count": 23,
     "metadata": {},
     "output_type": "execute_result"
    }
   ],
   "source": [
    "\"abhi mohan\".isspace()   #desired Output is true, but it is giving false. "
   ]
  },
  {
   "cell_type": "code",
   "execution_count": 24,
   "id": "ef0d19f1",
   "metadata": {},
   "outputs": [],
   "source": [
    "#isspace() will give true as output only wehn all the character in string is whitespace."
   ]
  },
  {
   "cell_type": "markdown",
   "id": "2d4eaa45",
   "metadata": {},
   "source": [
    "18. Accept a positive integer n as input and print the first n positive \n",
    "integers, one number on each line."
   ]
  },
  {
   "cell_type": "code",
   "execution_count": 42,
   "id": "f59cd277",
   "metadata": {},
   "outputs": [
    {
     "name": "stdout",
     "output_type": "stream",
     "text": [
      "enter a positive number: 12\n",
      "1\n",
      "2\n",
      "3\n",
      "4\n",
      "5\n",
      "6\n",
      "7\n",
      "8\n",
      "9\n",
      "10\n",
      "11\n",
      "12\n"
     ]
    }
   ],
   "source": [
    "x = int(input(\"enter a positive number: \"))\n",
    "\n",
    "for i in range(1,x+1):\n",
    "    print(i)"
   ]
  },
  {
   "cell_type": "markdown",
   "id": "d4b28f2f",
   "metadata": {},
   "source": [
    "19.Accept a positive integer n as input, where n is greater than 1. \n",
    "Print PRIME ifnis a prime number and NOTPRIME otherwise."
   ]
  },
  {
   "cell_type": "code",
   "execution_count": 47,
   "id": "030bd7e8",
   "metadata": {},
   "outputs": [
    {
     "name": "stdout",
     "output_type": "stream",
     "text": [
      "100\n",
      "Not prime\n"
     ]
    }
   ],
   "source": [
    "n = int(input())\n",
    "if n == 1:\n",
    "    print(\"NOT Prime\")\n",
    "if n == 2:\n",
    "    print(\"Prime\")\n",
    "if n>2:\n",
    "    for i in range(1,n-1):\n",
    "        if n%(i+1)==0:\n",
    "            print(\"Not prime\")\n",
    "            break\n",
    "        else:    \n",
    "            print(\"Prime\")\n",
    "            break\n",
    "    "
   ]
  },
  {
   "cell_type": "code",
   "execution_count": 48,
   "id": "0ad3096c",
   "metadata": {},
   "outputs": [
    {
     "name": "stdout",
     "output_type": "stream",
     "text": [
      "97\n",
      "Prime\n"
     ]
    }
   ],
   "source": [
    "n = int(input())\n",
    "if n == 1:\n",
    "    print(\"NOT Prime\")\n",
    "if n == 2:\n",
    "    print(\"Prime\")\n",
    "if n>2:\n",
    "    for i in range(1,n-1):\n",
    "        if n%(i+1)==0:\n",
    "            print(\"Not prime\")\n",
    "            break\n",
    "        else:    \n",
    "            print(\"Prime\")\n",
    "            break\n",
    "    "
   ]
  },
  {
   "cell_type": "code",
   "execution_count": 2,
   "id": "c07b5bb8",
   "metadata": {},
   "outputs": [
    {
     "name": "stdout",
     "output_type": "stream",
     "text": [
      "2\n",
      "Prime\n"
     ]
    }
   ],
   "source": [
    "n = int(input())\n",
    "if n == 1:\n",
    "    print(\"NOT Prime\")\n",
    "if n == 2:\n",
    "    print(\"Prime\")\n",
    "if n>2:\n",
    "    for i in range(1,n-1):\n",
    "        if n%(i+1)==0:\n",
    "            print(\"Not prime\")\n",
    "            break\n",
    "        else:    \n",
    "            print(\"Prime\")\n",
    "            break"
   ]
  },
  {
   "cell_type": "markdown",
   "id": "44592015",
   "metadata": {},
   "source": [
    "20. Accept two strings as input and form a new string by removing all \n",
    "characters from the second string which are present in the first string. \n",
    "Print this new string as output. You can assume that all input strings \n",
    "will be in lower case."
   ]
  },
  {
   "cell_type": "code",
   "execution_count": 56,
   "id": "f24a9c33",
   "metadata": {},
   "outputs": [
    {
     "name": "stdout",
     "output_type": "stream",
     "text": [
      "ac\n",
      "abcd\n",
      "b\n"
     ]
    }
   ],
   "source": [
    "#         a =input()\n",
    "#         b = input()\n",
    "#         c = \"\"\n",
    "#         for i in range(len(a)):\n",
    "#             if b[i] not in a:\n",
    "#                 c = c + b[i]\n",
    "#             else:\n",
    "#                 continue\n",
    "\n",
    "#         print(c)\n"
   ]
  },
  {
   "cell_type": "code",
   "execution_count": 48,
   "id": "703ae000",
   "metadata": {},
   "outputs": [
    {
     "data": {
      "text/plain": [
       "' bhi'"
      ]
     },
     "execution_count": 48,
     "metadata": {},
     "output_type": "execute_result"
    }
   ],
   "source": [
    "x = \"abhi\"\n",
    "x.replace(\"a\",\" \")"
   ]
  },
  {
   "cell_type": "markdown",
   "id": "6ceea9ad",
   "metadata": {},
   "source": [
    "21.Accept a phone number as input. A valid phone number should satisfy \n",
    "the following constraints.\n",
    "(1) The number should start with one of these digits: 6, 7, 8, 9\n",
    "(2) The number should be exactly 10 digits long.\n",
    "(3) No digit should appear more than 7 times in the number.\n",
    "(4) No digit should appear more than 5 times in a row in the \n",
    "number.\n",
    "If the fourth condition is not very clear, then consider this example: \n",
    "the number 9888888765 is invalid because the digit 8 appears more \n",
    "than 5 times in a row. Print the string valid if the phone number is \n",
    "valid. If not, print the string invalid."
   ]
  },
  {
   "cell_type": "code",
   "execution_count": 90,
   "id": "0be78c2d",
   "metadata": {},
   "outputs": [
    {
     "name": "stdout",
     "output_type": "stream",
     "text": [
      "enter phone number: 9888458889\n",
      "Valid\n"
     ]
    }
   ],
   "source": [
    "phone = input(\"enter phone number: \")\n",
    "Sum=0\n",
    "count = 1\n",
    "if phone.startswith(\"6\") or phone.startswith(\"7\") or phone.startswith(\"8\") or phone.startswith(\"9\"):\n",
    "    if len(phone)==10:\n",
    "        for i in phone:\n",
    "            Sum = phone.count(i)\n",
    "        if Sum<=7:\n",
    "            for j in range(len(phone)-1):\n",
    "                if phone[j]==phone[j+1]:\n",
    "                    count = count + 1\n",
    "                else:\n",
    "                    continue\n",
    "            if count<=5:\n",
    "                print(\"Valid\")\n",
    "            else:\n",
    "                print(\"Invalid\")\n",
    "        else:\n",
    "            print(\"Invalid\")\n",
    "    else:\n",
    "        print(\"Invalid\")\n",
    "else:\n",
    "    print(\"Invalid\")"
   ]
  },
  {
   "cell_type": "code",
   "execution_count": 89,
   "id": "2852dcc1",
   "metadata": {},
   "outputs": [
    {
     "name": "stdout",
     "output_type": "stream",
     "text": [
      "enter phone number: 8555555982\n",
      "Invalid\n"
     ]
    }
   ],
   "source": [
    "phone = input(\"enter phone number: \")\n",
    "Sum=0\n",
    "count = 1\n",
    "if phone.startswith(\"6\") or phone.startswith(\"7\") or phone.startswith(\"8\") or phone.startswith(\"9\"):\n",
    "    if len(phone)==10:\n",
    "        for i in phone:\n",
    "            Sum = phone.count(i)\n",
    "        if Sum<=7:\n",
    "            for j in range(len(phone)-1):\n",
    "                if phone[j]==phone[j+1]:\n",
    "                    count = count + 1\n",
    "                else:\n",
    "                    continue\n",
    "            if count<=5:\n",
    "                print(\"Valid\")\n",
    "            else:\n",
    "                print(\"Invalid\")\n",
    "        else:\n",
    "            print(\"Invalid\")\n",
    "    else:\n",
    "        print(\"Invalid\")\n",
    "else:\n",
    "    print(\"Invalid\")"
   ]
  },
  {
   "cell_type": "code",
   "execution_count": 91,
   "id": "4cbd830b",
   "metadata": {},
   "outputs": [
    {
     "name": "stdout",
     "output_type": "stream",
     "text": [
      "enter phone number: 7888885869\n",
      "Valid\n"
     ]
    }
   ],
   "source": [
    "phone = input(\"enter phone number: \")\n",
    "Sum=0\n",
    "count = 1\n",
    "if phone.startswith(\"6\") or phone.startswith(\"7\") or phone.startswith(\"8\") or phone.startswith(\"9\"):\n",
    "    if len(phone)==10:\n",
    "        for i in phone:\n",
    "            Sum = phone.count(i)\n",
    "        if Sum<=7:\n",
    "            for j in range(len(phone)-1):\n",
    "                if phone[j]==phone[j+1]:\n",
    "                    count = count + 1\n",
    "                else:\n",
    "                    continue\n",
    "            if count<=5:\n",
    "                print(\"Valid\")\n",
    "            else:\n",
    "                print(\"Invalid\")\n",
    "        else:\n",
    "            print(\"Invalid\")\n",
    "    else:\n",
    "        print(\"Invalid\")\n",
    "else:\n",
    "    print(\"Invalid\")"
   ]
  },
  {
   "cell_type": "code",
   "execution_count": null,
   "id": "1e4fceb6",
   "metadata": {},
   "outputs": [],
   "source": []
  },
  {
   "cell_type": "code",
   "execution_count": 92,
   "id": "26a67feb",
   "metadata": {},
   "outputs": [],
   "source": [
    "# x = 66665266\n",
    "# a = str(x)\n",
    "# count = 1\n",
    "# for i in range(len(a)-1):\n",
    "#     if a[i]==a[i+1]:\n",
    "#         count = count + 1\n",
    "#     else:\n",
    "#         break\n",
    "# if count >=5:\n",
    "#     print(\"Invalid\")\n",
    "# else:\n",
    "#     print(\"valid\")\n",
    "    \n",
    "    "
   ]
  },
  {
   "cell_type": "code",
   "execution_count": null,
   "id": "0098cb3f",
   "metadata": {},
   "outputs": [],
   "source": []
  },
  {
   "cell_type": "code",
   "execution_count": null,
   "id": "39011ae4",
   "metadata": {},
   "outputs": [],
   "source": []
  },
  {
   "cell_type": "markdown",
   "id": "0bfd990f",
   "metadata": {},
   "source": [
    "22. In the first line of input, accept a sequence of space-separated words. In the second line of \n",
    "input, accept a single word. If this word is not present in the sequence, print NO. If this word \n",
    "is present in the sequence, then print YES and in the next line of the output, print the number \n",
    "of times the word appears in the sequence."
   ]
  },
  {
   "cell_type": "code",
   "execution_count": 1,
   "id": "b9cdd441",
   "metadata": {},
   "outputs": [
    {
     "name": "stdout",
     "output_type": "stream",
     "text": [
      "i live in delhi. delhi is capital of india\n",
      "delhi\n",
      "YES\n",
      "2\n"
     ]
    }
   ],
   "source": [
    "x = input()\n",
    "y = input()\n",
    "if y in x:\n",
    "    print(\"YES\")\n",
    "    print(x.count(y))\n",
    "else: \n",
    "    print(\"NO\")\n",
    "    "
   ]
  },
  {
   "cell_type": "code",
   "execution_count": 5,
   "id": "00efa58a",
   "metadata": {},
   "outputs": [
    {
     "name": "stdout",
     "output_type": "stream",
     "text": [
      "i live in delhi and delhi is capital of india\n",
      "delhi\n",
      "YES\n",
      "2\n"
     ]
    }
   ],
   "source": [
    "x = input().split(\" \")\n",
    "y = input()\n",
    "if y in x:\n",
    "    print(\"YES\")\n",
    "    print(x.count(y))\n",
    "else: \n",
    "    print(\"NO\")\n",
    "    "
   ]
  },
  {
   "cell_type": "markdown",
   "id": "f69b81be",
   "metadata": {},
   "source": [
    "23. Write a function named factorial that accepts an integer n as argument. It should return \n",
    "the factorial of n if n is a positive integer. It should return -1 if n is a negative integer, and it \n",
    "should return 1 if n is zero."
   ]
  },
  {
   "cell_type": "code",
   "execution_count": 53,
   "id": "68724a81",
   "metadata": {},
   "outputs": [],
   "source": [
    "def factorial(n):\n",
    "\n",
    "    if n<0:\n",
    "        return -1\n",
    "    if n==0:\n",
    "        return 1\n",
    "    else:\n",
    "        fact = 1\n",
    "        for i in range(1,n+1):\n",
    "            fact = fact*i\n",
    "        return fact\n",
    "    "
   ]
  },
  {
   "cell_type": "code",
   "execution_count": 54,
   "id": "1153c994",
   "metadata": {},
   "outputs": [
    {
     "data": {
      "text/plain": [
       "120"
      ]
     },
     "execution_count": 54,
     "metadata": {},
     "output_type": "execute_result"
    }
   ],
   "source": [
    "factorial(5)"
   ]
  },
  {
   "cell_type": "code",
   "execution_count": 55,
   "id": "013d1bef",
   "metadata": {},
   "outputs": [
    {
     "data": {
      "text/plain": [
       "1"
      ]
     },
     "execution_count": 55,
     "metadata": {},
     "output_type": "execute_result"
    }
   ],
   "source": [
    "factorial(0)"
   ]
  },
  {
   "cell_type": "code",
   "execution_count": 56,
   "id": "e4c75ec0",
   "metadata": {},
   "outputs": [
    {
     "data": {
      "text/plain": [
       "-1"
      ]
     },
     "execution_count": 56,
     "metadata": {},
     "output_type": "execute_result"
    }
   ],
   "source": [
    "factorial(-10)"
   ]
  },
  {
   "cell_type": "code",
   "execution_count": 57,
   "id": "57ce7f79",
   "metadata": {},
   "outputs": [
    {
     "data": {
      "text/plain": [
       "3628800"
      ]
     },
     "execution_count": 57,
     "metadata": {},
     "output_type": "execute_result"
    }
   ],
   "source": [
    "factorial(10)"
   ]
  },
  {
   "cell_type": "markdown",
   "id": "22509857",
   "metadata": {},
   "source": [
    "24. \n",
    "The range of a list of numbers is the difference between the maximum and minimum values in the list\n",
    "Write a function named get_range that accepts a non-empty list of real numbers as argument. It \n",
    "should return the range of the list.\n",
    "(1) Avoid using built-in function such as max and min.\n",
    "(2) You do not have to accept input from the user or print output to the console. You just have to write \n",
    "the function definition."
   ]
  },
  {
   "cell_type": "code",
   "execution_count": 39,
   "id": "5cb415f6",
   "metadata": {},
   "outputs": [],
   "source": [
    "def maxx(l):\n",
    "    Max = l[0]\n",
    "    for i in range(len(l)):\n",
    "        if l[i]> Max:\n",
    "            Max = l[i]\n",
    "    return Max   \n",
    "\n",
    "def minn(l):\n",
    "    Min = l[0]\n",
    "    for i in range(len(l)):\n",
    "        if l[i]< Min:\n",
    "            Min = l[i]\n",
    "    return Min   \n",
    "\n",
    "def get_range(l):\n",
    "    Range  = maxx(l) - minn(l)\n",
    "    return Range\n",
    "\n",
    "        \n",
    "    "
   ]
  },
  {
   "cell_type": "code",
   "execution_count": 45,
   "id": "234a982c",
   "metadata": {},
   "outputs": [],
   "source": [
    "l=[12,2,10,20,15,30,25]"
   ]
  },
  {
   "cell_type": "code",
   "execution_count": 46,
   "id": "86790a70",
   "metadata": {},
   "outputs": [
    {
     "data": {
      "text/plain": [
       "28"
      ]
     },
     "execution_count": 46,
     "metadata": {},
     "output_type": "execute_result"
    }
   ],
   "source": [
    "get_range(l)"
   ]
  },
  {
   "cell_type": "code",
   "execution_count": 47,
   "id": "bd2e2d1a",
   "metadata": {},
   "outputs": [
    {
     "data": {
      "text/plain": [
       "30"
      ]
     },
     "execution_count": 47,
     "metadata": {},
     "output_type": "execute_result"
    }
   ],
   "source": [
    "maxx(l)"
   ]
  },
  {
   "cell_type": "code",
   "execution_count": 48,
   "id": "24b1156f",
   "metadata": {},
   "outputs": [
    {
     "data": {
      "text/plain": [
       "2"
      ]
     },
     "execution_count": 48,
     "metadata": {},
     "output_type": "execute_result"
    }
   ],
   "source": [
    "minn(l)"
   ]
  },
  {
   "cell_type": "markdown",
   "id": "77632634",
   "metadata": {},
   "source": [
    "25. Write a function named read_file that accepts a text file named filename as argument. Within \n",
    "the function, read the file and print each line of the file on a separate line in the console. You shouldn't \n",
    "print any extra characters at the end of a line. There shouldn't be an empty line between any two \n",
    "consecutive lines.\n",
    "(1) filename is a string variable that holds the name of the file. For example, in the first test case, it \n",
    "is filename = 'public_1.txt'.\n",
    "(2) You do not have to accept input from the console. You have to write the function definition and \n",
    "print the contents of the file within the function"
   ]
  },
  {
   "cell_type": "code",
   "execution_count": null,
   "id": "bb2902d7",
   "metadata": {},
   "outputs": [],
   "source": [
    "#Based on file handling...will do it later"
   ]
  },
  {
   "cell_type": "markdown",
   "id": "c98954cd",
   "metadata": {},
   "source": [
    "26. A simple algorithm has to be designed to find out whether a student \n",
    "belongs to the Data Science branch or not. The input will be a \n",
    "student's roll number, which is of the form BR18B0000. \n",
    "Here, BR represents the branch code, 18 represents the year of \n",
    "joining, B represents the education level and 0000 represents the \n",
    "specific identification given to the student of that batch. The branch \n",
    "code for Data Science is DS. Print True if the student belongs to \n",
    "Data Science branch and False otherwise."
   ]
  },
  {
   "cell_type": "code",
   "execution_count": 14,
   "id": "9b9ffb02",
   "metadata": {},
   "outputs": [
    {
     "name": "stdout",
     "output_type": "stream",
     "text": [
      "enter roll number: BR18B0000\n",
      "False\n"
     ]
    }
   ],
   "source": [
    "roll = input(\"enter roll number: \")\n",
    "if roll[0:2].isalpha() and roll[2:4].isdigit() and roll[4].isalpha() and roll[5:].isdigit():\n",
    "    if roll[0:2] == \"DS\":\n",
    "        print(\"True\")\n",
    "    else:\n",
    "        print(\"False\")\n",
    "else:\n",
    "    print(\"enter correct roll number !\")"
   ]
  },
  {
   "cell_type": "code",
   "execution_count": 15,
   "id": "0649a6e2",
   "metadata": {},
   "outputs": [
    {
     "name": "stdout",
     "output_type": "stream",
     "text": [
      "enter roll number: DS20J1235\n",
      "True\n"
     ]
    }
   ],
   "source": [
    "roll = input(\"enter roll number: \")\n",
    "if roll[0:2].isalpha() and roll[2:4].isdigit() and roll[4].isalpha() and roll[5:].isdigit():\n",
    "    if roll[0:2] == \"DS\":\n",
    "        print(\"True\")\n",
    "    else:\n",
    "        print(\"False\")\n",
    "else:\n",
    "    print(\"enter correct roll number !\")"
   ]
  },
  {
   "cell_type": "code",
   "execution_count": 16,
   "id": "5ebfaec8",
   "metadata": {},
   "outputs": [
    {
     "name": "stdout",
     "output_type": "stream",
     "text": [
      "enter roll number: JK45BD000\n",
      "enter correct roll number !\n"
     ]
    }
   ],
   "source": [
    "roll = input(\"enter roll number: \")\n",
    "if roll[0:2].isalpha() and roll[2:4].isdigit() and roll[4].isalpha() and roll[5:].isdigit():\n",
    "    if roll[0:2] == \"DS\":\n",
    "        print(\"True\")\n",
    "    else:\n",
    "        print(\"False\")\n",
    "else:\n",
    "    print(\"enter correct roll number !\")"
   ]
  },
  {
   "cell_type": "markdown",
   "id": "d22580a3",
   "metadata": {},
   "source": [
    "27.The police are trying to track a criminal based on the evidence \n",
    "available at a crime site. Their main clue is a vehicle's damaged \n",
    "number plate. Only the string TN07 is visible. The format of the \n",
    "registration number is AA00AA00, where the first two letters are \n",
    "alphabets, next two are numbers, next two are again alphabets \n",
    "followed by two numbers at the end. A number plate is picked from a \n",
    "database of registration numbers and is given to you as input. Your \n",
    "task is to determine if this could belong to the criminal or not. \n",
    "Print True if the number plate \n",
    "contains TN07 and False otherwise."
   ]
  },
  {
   "cell_type": "code",
   "execution_count": 9,
   "id": "98718297",
   "metadata": {},
   "outputs": [
    {
     "name": "stdout",
     "output_type": "stream",
     "text": [
      "enter number plate: MP23JK45\n",
      "False\n"
     ]
    }
   ],
   "source": [
    "np = input(\"enter number plate: \")\n",
    "if np[0:2].isalpha() and np[2:4].isdigit() and np[4:6].isalpha() and np[6:].isdigit():\n",
    "    if np[0:2] == \"TN\" and np[2:4] == \"07\":\n",
    "        print(\"True\")\n",
    "    else:\n",
    "        print(\"False\")\n",
    "else:\n",
    "    print(\"Enter correct number plate data\")"
   ]
  },
  {
   "cell_type": "code",
   "execution_count": 10,
   "id": "1c5f1c4b",
   "metadata": {},
   "outputs": [
    {
     "name": "stdout",
     "output_type": "stream",
     "text": [
      "enter number plate: TN07JH85\n",
      "True\n"
     ]
    }
   ],
   "source": [
    "np = input(\"enter number plate: \")\n",
    "if np[0:2].isalpha() and np[2:4].isdigit() and np[4:6].isalpha() and np[6:].isdigit():\n",
    "    if np[0:2] == \"TN\" and np[2:4] == \"07\":\n",
    "        print(\"True\")\n",
    "    else:\n",
    "        print(\"False\")\n",
    "else:\n",
    "    print(\"Enter correct number plate data\")"
   ]
  },
  {
   "cell_type": "code",
   "execution_count": 11,
   "id": "3db534e3",
   "metadata": {},
   "outputs": [
    {
     "name": "stdout",
     "output_type": "stream",
     "text": [
      "enter number plate: GH123J45\n",
      "Enter correct number plate data\n"
     ]
    }
   ],
   "source": [
    "np = input(\"enter number plate: \")\n",
    "if np[0:2].isalpha() and np[2:4].isdigit() and np[4:6].isalpha() and np[6:].isdigit():\n",
    "    if np[0:2] == \"TN\" and np[2:4] == \"07\":\n",
    "        print(\"True\")\n",
    "    else:\n",
    "        print(\"False\")\n",
    "else:\n",
    "    print(\"Enter correct number plate data\")"
   ]
  },
  {
   "cell_type": "code",
   "execution_count": 12,
   "id": "d1531f33",
   "metadata": {},
   "outputs": [
    {
     "name": "stdout",
     "output_type": "stream",
     "text": [
      "enter number plate: tn07JH23\n",
      "False\n"
     ]
    }
   ],
   "source": [
    "np = input(\"enter number plate: \")\n",
    "if np[0:2].isalpha() and np[2:4].isdigit() and np[4:6].isalpha() and np[6:].isdigit():\n",
    "    if np[0:2] == \"TN\" and np[2:4] == \"07\":\n",
    "        print(\"True\")\n",
    "    else:\n",
    "        print(\"False\")\n",
    "else:\n",
    "    print(\"Enter correct number plate data\")"
   ]
  },
  {
   "cell_type": "code",
   "execution_count": 13,
   "id": "c1f93119",
   "metadata": {},
   "outputs": [
    {
     "name": "stdout",
     "output_type": "stream",
     "text": [
      "enter number plate: 07TN45JK\n",
      "Enter correct number plate data\n"
     ]
    }
   ],
   "source": [
    "np = input(\"enter number plate: \")\n",
    "if np[0:2].isalpha() and np[2:4].isdigit() and np[4:6].isalpha() and np[6:].isdigit():\n",
    "    if np[0:2] == \"TN\" and np[2:4] == \"07\":\n",
    "        print(\"True\")\n",
    "    else:\n",
    "        print(\"False\")\n",
    "else:\n",
    "    print(\"Enter correct number plate data\")"
   ]
  },
  {
   "cell_type": "markdown",
   "id": "47b9d975",
   "metadata": {},
   "source": [
    "28. You are given a string and two non-negative integers as input. The \n",
    "two integers specify the start and end indices of a substring in the \n",
    "given string. Create a new string by replicating the substring a \n",
    "minimum number of times so that the resulting string is longer than \n",
    "the input string. The input parameters are the string, start index of \n",
    "the substring and the end index of substring (endpoints inclusive) \n",
    "each on a different line."
   ]
  },
  {
   "cell_type": "code",
   "execution_count": 22,
   "id": "7f902653",
   "metadata": {},
   "outputs": [
    {
     "name": "stdout",
     "output_type": "stream",
     "text": [
      "enter a string: abhishek\n",
      "enter start index : 0\n",
      "enter ending index : 9\n",
      "Enter index within the range of string\n"
     ]
    }
   ],
   "source": [
    "str1 = input(\"enter a string: \")\n",
    "l = len(str1)\n",
    "n1 = int(input(\"enter start index : \"))\n",
    "n2 = int(input(\"enter ending index : \"))\n",
    "if n1>l or n2>l:\n",
    "    print(\"Enter index within the range of string\")\n",
    "else:\n",
    "    k = str1[n1:n2+1]\n",
    "    l2 = len(str1[n1:n2+1])\n",
    "    i = 1\n",
    "    while l2<=l:\n",
    "        substring = k*i\n",
    "        l2 = len(substring)\n",
    "        i = i+1\n",
    "    print(substring)\n",
    "\n"
   ]
  },
  {
   "cell_type": "code",
   "execution_count": 21,
   "id": "cdba5556",
   "metadata": {},
   "outputs": [
    {
     "name": "stdout",
     "output_type": "stream",
     "text": [
      "enter a string: abhishek\n",
      "enter start index : 0\n",
      "enter ending index : 3\n",
      "abhiabhiabhi\n"
     ]
    }
   ],
   "source": [
    "str1 = input(\"enter a string: \")\n",
    "l = len(str1)\n",
    "n1 = int(input(\"enter start index : \"))\n",
    "n2 = int(input(\"enter ending index : \"))\n",
    "if n1>l or n2>l:\n",
    "    print(\"Enter index within the range of string\")\n",
    "else:\n",
    "    k = str1[n1:n2+1]\n",
    "    l2 = len(str1[n1:n2+1])\n",
    "    i = 1\n",
    "    while l2<=l:\n",
    "        substring = k*i\n",
    "        l2 = len(substring)\n",
    "        i = i+1\n",
    "    print(substring)"
   ]
  },
  {
   "cell_type": "code",
   "execution_count": 23,
   "id": "a89bf9c7",
   "metadata": {},
   "outputs": [
    {
     "name": "stdout",
     "output_type": "stream",
     "text": [
      "enter a string: This is my pen\n",
      "enter start index : 8\n",
      "enter ending index : 13\n",
      "my penmy penmy pen\n"
     ]
    }
   ],
   "source": [
    "str1 = input(\"enter a string: \")\n",
    "l = len(str1)\n",
    "n1 = int(input(\"enter start index : \"))\n",
    "n2 = int(input(\"enter ending index : \"))\n",
    "if n1>l or n2>l:\n",
    "    print(\"Enter index within the range of string\")\n",
    "else:\n",
    "    k = str1[n1:n2+1]\n",
    "    l2 = len(str1[n1:n2+1])\n",
    "    i = 1\n",
    "    while l2<=l:\n",
    "        substring = k*i\n",
    "        l2 = len(substring)\n",
    "        i = i+1\n",
    "    print(substring)"
   ]
  },
  {
   "cell_type": "code",
   "execution_count": 24,
   "id": "996478f1",
   "metadata": {},
   "outputs": [
    {
     "name": "stdout",
     "output_type": "stream",
     "text": [
      "enter a string: iNeuron\n",
      "enter start index : 1\n",
      "enter ending index : 6\n",
      "NeuronNeuron\n"
     ]
    }
   ],
   "source": [
    "str1 = input(\"enter a string: \")\n",
    "l = len(str1)\n",
    "n1 = int(input(\"enter start index : \"))\n",
    "n2 = int(input(\"enter ending index : \"))\n",
    "if n1>l or n2>l:\n",
    "    print(\"Enter index within the range of string\")\n",
    "else:\n",
    "    k = str1[n1:n2+1]\n",
    "    l2 = len(str1[n1:n2+1])\n",
    "    i = 1\n",
    "    while l2<=l:\n",
    "        substring = k*i\n",
    "        l2 = len(substring)\n",
    "        i = i+1\n",
    "    print(substring)"
   ]
  },
  {
   "cell_type": "markdown",
   "id": "7a8d106d",
   "metadata": {},
   "source": [
    "29. A class teacher has decided to split her entire class into four groups, namely Sapphire, Peridot, Ruby, \n",
    "and Emerald for sports competitions. For dividing the students into these four groups, she has \n",
    "followed the pattern given below:\n",
    "Sapphire - 1, 5, 9, 13, 17, 21, ...\n",
    "Peridot - 2, 6, 10, 14, 18, 22, ...\n",
    "Ruby - 3, 7, 11, 15, 19, 23, ...\n",
    "Emerald - 4, 8, 12, 16, 20, 24, ...\n",
    "All the students are represented by their roll numbers. Based on the above pattern, given the roll \n",
    "number as input, print the group the student belongs to. Note that the roll number can be any \n",
    "positive integer and not necessarily less than 25."
   ]
  },
  {
   "cell_type": "code",
   "execution_count": 12,
   "id": "a72a6ea4",
   "metadata": {},
   "outputs": [
    {
     "name": "stdout",
     "output_type": "stream",
     "text": [
      "Enter roll number: 22\n",
      "Peridot\n"
     ]
    }
   ],
   "source": [
    "roll = int(input(\"Enter roll number: \"))\n",
    "Sapphire = []\n",
    "Peridot = []\n",
    "Ruby = []\n",
    "Emerald = []\n",
    "for n in range(0,100):\n",
    "    Sapphire.append(1+4*n)\n",
    "    Peridot.append(2+4*n)\n",
    "    Ruby.append(3+4*n)\n",
    "    Emerald.append(4+4*n)\n",
    "if roll in Sapphire:\n",
    "    print(\"Sapphire\")\n",
    "elif roll in Peridot:\n",
    "    print(\"Peridot\")\n",
    "elif roll in Ruby:\n",
    "    print(\"Ruby\")\n",
    "elif roll in Emerald:\n",
    "    print(\"Emerald\")\n",
    "else:\n",
    "    print(\"Enter correct roll number\")\n"
   ]
  },
  {
   "cell_type": "code",
   "execution_count": 13,
   "id": "7cf3e77d",
   "metadata": {},
   "outputs": [
    {
     "name": "stdout",
     "output_type": "stream",
     "text": [
      "Enter roll number: 17\n",
      "Sapphire\n"
     ]
    }
   ],
   "source": [
    "roll = int(input(\"Enter roll number: \"))\n",
    "Sapphire = []\n",
    "Peridot = []\n",
    "Ruby = []\n",
    "Emerald = []\n",
    "for n in range(0,100):\n",
    "    Sapphire.append(1+4*n)\n",
    "    Peridot.append(2+4*n)\n",
    "    Ruby.append(3+4*n)\n",
    "    Emerald.append(4+4*n)\n",
    "if roll in Sapphire:\n",
    "    print(\"Sapphire\")\n",
    "elif roll in Peridot:\n",
    "    print(\"Peridot\")\n",
    "elif roll in Ruby:\n",
    "    print(\"Ruby\")\n",
    "elif roll in Emerald:\n",
    "    print(\"Emerald\")\n",
    "else:\n",
    "    print(\"Enter correct roll number\")"
   ]
  },
  {
   "cell_type": "code",
   "execution_count": 14,
   "id": "95d71956",
   "metadata": {},
   "outputs": [
    {
     "name": "stdout",
     "output_type": "stream",
     "text": [
      "Enter roll number: 52\n",
      "Emerald\n"
     ]
    }
   ],
   "source": [
    "roll = int(input(\"Enter roll number: \"))\n",
    "Sapphire = []\n",
    "Peridot = []\n",
    "Ruby = []\n",
    "Emerald = []\n",
    "for n in range(0,100):\n",
    "    Sapphire.append(1+4*n)\n",
    "    Peridot.append(2+4*n)\n",
    "    Ruby.append(3+4*n)\n",
    "    Emerald.append(4+4*n)\n",
    "if roll in Sapphire:\n",
    "    print(\"Sapphire\")\n",
    "elif roll in Peridot:\n",
    "    print(\"Peridot\")\n",
    "elif roll in Ruby:\n",
    "    print(\"Ruby\")\n",
    "elif roll in Emerald:\n",
    "    print(\"Emerald\")\n",
    "else:\n",
    "    print(\"Enter correct roll number\")"
   ]
  },
  {
   "cell_type": "markdown",
   "id": "94e5abdf",
   "metadata": {},
   "source": [
    "30. A data science company wants to hire data scientists from abc college. \n",
    "The company follows a certain criteria for selection: for a student to \n",
    "be selected, the number of backlogs should be at most 5 and the \n",
    "CGPA (Cumulative Grade Point Average) should be greater than 6. If \n",
    "the student does not fit the above criteria, then the student is not \n",
    "offered the job. If the student is selected, then the salary offered is \n",
    "equal to 5 times his/her CGPA (in lakhs).\n",
    "Accept the number of backlogs (integer) and the CGPA (float) of the \n",
    "student as input. Your task is to determine if the student is selected or \n",
    "not. If the student is selected, then print the package. If not, then \n",
    "print the string Not Selected."
   ]
  },
  {
   "cell_type": "code",
   "execution_count": 15,
   "id": "8bd4d9ad",
   "metadata": {},
   "outputs": [
    {
     "name": "stdout",
     "output_type": "stream",
     "text": [
      "Enter number of backlogs :5\n",
      "Enter your CGPA: 9.2\n",
      "Selected\n",
      "Salary offered is 46.0 lakhs\n"
     ]
    }
   ],
   "source": [
    "bl = int(input(\"Enter number of backlogs :\"))\n",
    "CGPA = float(input(\"Enter your CGPA: \"))\n",
    "if bl<=5 and CGPA>6:\n",
    "    print(\"Selected\")\n",
    "    salary = 5*CGPA\n",
    "    print(f\"Salary offered is {salary} lakhs\")\n",
    "else:\n",
    "    print(\"Not Selected\")"
   ]
  },
  {
   "cell_type": "code",
   "execution_count": 16,
   "id": "66052cd2",
   "metadata": {},
   "outputs": [
    {
     "name": "stdout",
     "output_type": "stream",
     "text": [
      "Enter number of backlogs :6\n",
      "Enter your CGPA: 10\n",
      "Not Selected\n"
     ]
    }
   ],
   "source": [
    "bl = int(input(\"Enter number of backlogs :\"))\n",
    "CGPA = float(input(\"Enter your CGPA: \"))\n",
    "if bl<=5 and CGPA>6:\n",
    "    print(\"Selected\")\n",
    "    salary = 5*CGPA\n",
    "    print(f\"Salary offered is {salary} lakhs\")\n",
    "else:\n",
    "    print(\"Not Selected\")"
   ]
  },
  {
   "cell_type": "code",
   "execution_count": 17,
   "id": "23d306d9",
   "metadata": {},
   "outputs": [
    {
     "name": "stdout",
     "output_type": "stream",
     "text": [
      "Enter number of backlogs :2\n",
      "Enter your CGPA: 6\n",
      "Not Selected\n"
     ]
    }
   ],
   "source": [
    "bl = int(input(\"Enter number of backlogs :\"))\n",
    "CGPA = float(input(\"Enter your CGPA: \"))\n",
    "if bl<=5 and CGPA>6:\n",
    "    print(\"Selected\")\n",
    "    salary = 5*CGPA\n",
    "    print(f\"Salary offered is {salary} lakhs\")\n",
    "else:\n",
    "    print(\"Not Selected\")"
   ]
  },
  {
   "cell_type": "code",
   "execution_count": 18,
   "id": "cf2f037e",
   "metadata": {},
   "outputs": [
    {
     "name": "stdout",
     "output_type": "stream",
     "text": [
      "Enter number of backlogs :0\n",
      "Enter your CGPA: 8\n",
      "Selected\n",
      "Salary offered is 40.0 lakhs\n"
     ]
    }
   ],
   "source": [
    "bl = int(input(\"Enter number of backlogs :\"))\n",
    "CGPA = float(input(\"Enter your CGPA: \"))\n",
    "if bl<=5 and CGPA>6:\n",
    "    print(\"Selected\")\n",
    "    salary = 5*CGPA\n",
    "    print(f\"Salary offered is {salary} lakhs\")\n",
    "else:\n",
    "    print(\"Not Selected\")"
   ]
  },
  {
   "cell_type": "markdown",
   "id": "e96ccb1d",
   "metadata": {},
   "source": [
    "31. Accept a string as input and print PALINDROME if it is a \n",
    "palindrome, and NOT PALINDROME otherwise"
   ]
  },
  {
   "cell_type": "code",
   "execution_count": 98,
   "id": "0731ca8d",
   "metadata": {},
   "outputs": [
    {
     "name": "stdout",
     "output_type": "stream",
     "text": [
      "radar\n",
      "Palindrome\n"
     ]
    }
   ],
   "source": [
    "s= input()\n",
    "if s == s[::-1]:\n",
    "    print(\"Palindrome\")\n",
    "else:\n",
    "    print(\"Not Palindrome\")"
   ]
  },
  {
   "cell_type": "code",
   "execution_count": 99,
   "id": "45e49205",
   "metadata": {},
   "outputs": [
    {
     "name": "stdout",
     "output_type": "stream",
     "text": [
      "mohan\n",
      "Not Palindrome\n"
     ]
    }
   ],
   "source": [
    "s= input()\n",
    "if s == s[::-1]:\n",
    "    print(\"Palindrome\")\n",
    "else:\n",
    "    print(\"Not Palindrome\")"
   ]
  },
  {
   "cell_type": "markdown",
   "id": "9c2878e9",
   "metadata": {},
   "source": [
    "32. In a portal login website, you are asked to write a function get_password_strength to decide \n",
    "the strength of a password. The strength is decided based on the total score of the password, Use \n",
    "following conditions:\n",
    "1) If password has length greater than 7 then score increases by one point.\n",
    "2) If password has at least one upper case and one lower case alphabets score increases by one point.\n",
    "3) If password has at least one number and no consecutive numbers like 12 or 234 then score \n",
    "increases by one point.\n",
    "4) If password has at least one special character (any character other than numbers and alphabets) then \n",
    "score increases by one point.\n",
    "5) If password contains username, then it is invalid password.\n",
    "If the password has score of four points, three points, two points, or one point then print Very \n",
    "Strong, Strong, Moderate, or Weak respectively. If the password is invalid, then \n",
    "print PASSWORD SHOULD NOT CONTAIN USERNAME and If the score is zero, then print Use a \n",
    "different password.The arguments to the function are username and password which are \n",
    "already defined"
   ]
  },
  {
   "cell_type": "markdown",
   "id": "51df1e46",
   "metadata": {},
   "source": [
    "33.decorator that logs the date and time"
   ]
  },
  {
   "cell_type": "markdown",
   "id": "214bf79b",
   "metadata": {},
   "source": [
    "34.Program to Get Data Items From a List Appearing Odd Number of Times"
   ]
  },
  {
   "cell_type": "markdown",
   "id": "a419173d",
   "metadata": {},
   "source": [
    "35.What are decorators in Python?"
   ]
  },
  {
   "cell_type": "markdown",
   "id": "72787d15",
   "metadata": {},
   "source": [
    "36. remove items from a list while iterating but without creating a different copy of a list.\n",
    "Remove numbers greater than 50\n",
    "number_list = [10, 20, 30, 40, 50, 60, 70, 80, 90, 100]\n",
    "Expected Output: [10, 20, 30, 40, 50]"
   ]
  },
  {
   "cell_type": "code",
   "execution_count": 138,
   "id": "778a6c85",
   "metadata": {},
   "outputs": [
    {
     "name": "stdout",
     "output_type": "stream",
     "text": [
      "[10, 20, 30, 40, 50]\n"
     ]
    }
   ],
   "source": [
    "number_list = [10, 20, 30, 40, 50, 60, 70, 80, 90, 100]\n",
    "l = []\n",
    "n = len(number_list)\n",
    "for i in range(n):\n",
    "    if number_list[i] <= 50:\n",
    "        l.append(number_list[i])\n",
    "        \n",
    "print(l)        "
   ]
  },
  {
   "cell_type": "markdown",
   "id": "342e032a",
   "metadata": {},
   "source": [
    "37.  Display all duplicate items from a list\n",
    "sample_list = [10, 20, 60, 30, 20, 40, 30, 60, 70, 80]\n",
    "Expected Output: [20, 60, 30]"
   ]
  },
  {
   "cell_type": "code",
   "execution_count": 118,
   "id": "71da0dbe",
   "metadata": {},
   "outputs": [
    {
     "name": "stdout",
     "output_type": "stream",
     "text": [
      "10 1\n",
      "20 2\n",
      "60 2\n",
      "30 2\n",
      "20 2\n",
      "40 1\n",
      "30 2\n",
      "60 2\n",
      "70 1\n",
      "80 1\n",
      "[20, 60, 30]\n"
     ]
    }
   ],
   "source": [
    "sample_list = [10, 20, 60, 30, 20, 40, 30, 60,70,80]\n",
    "l=[]\n",
    "for i in sample_list:\n",
    "    print(i, sample_list.count(i))\n",
    "    if sample_list.count(i)>1:\n",
    "        l.append(i)\n",
    "print(list(set(l)))        \n",
    "    \n",
    "       \n"
   ]
  },
  {
   "cell_type": "markdown",
   "id": "f54945c5",
   "metadata": {},
   "source": [
    "38. Create an outer function that will accept two strings, x and y. (x= 'Emma' and y = 'Kelly'.\n",
    "Create an inner function inside an outer function that will concatenate x and y.\n",
    "At last, an outer function will join the word 'developer' to it."
   ]
  },
  {
   "cell_type": "code",
   "execution_count": 95,
   "id": "92abec03",
   "metadata": {},
   "outputs": [],
   "source": [
    "# def func(x,y):\n",
    "#     def inner_func(a,b):\n",
    "#         return a+b\n",
    "#     inner_func(x,y) + \"developer\"\n",
    "#     return inner_func\n",
    "    "
   ]
  },
  {
   "cell_type": "code",
   "execution_count": 96,
   "id": "2cb011b6",
   "metadata": {},
   "outputs": [
    {
     "name": "stdout",
     "output_type": "stream",
     "text": [
      "<function func.<locals>.inner_func at 0x0000022B776FC670>\n"
     ]
    }
   ],
   "source": [
    "func(\"Emma\",\"kelly\")"
   ]
  },
  {
   "cell_type": "markdown",
   "id": "286d8311",
   "metadata": {},
   "source": [
    "39. Modify the element of a nested list inside the following list\n",
    "Change the element 35 to 3500\n",
    "list1 = [5, [10, 15, [20, 25, [30, 35], 40], 45], 50]"
   ]
  },
  {
   "cell_type": "code",
   "execution_count": 8,
   "id": "d2030122",
   "metadata": {},
   "outputs": [],
   "source": [
    "list1 = [5, [10, 15, [20, 25, [30, 35], 40], 45], 50]\n",
    "\n",
    "list1[1][2][2][1] = 3500"
   ]
  },
  {
   "cell_type": "code",
   "execution_count": 9,
   "id": "6fe7c4e1",
   "metadata": {},
   "outputs": [
    {
     "data": {
      "text/plain": [
       "[5, [10, 15, [20, 25, [30, 3500], 40], 45], 50]"
      ]
     },
     "execution_count": 9,
     "metadata": {},
     "output_type": "execute_result"
    }
   ],
   "source": [
    "list1"
   ]
  },
  {
   "cell_type": "code",
   "execution_count": null,
   "id": "6b27efb9",
   "metadata": {},
   "outputs": [],
   "source": []
  },
  {
   "cell_type": "markdown",
   "id": "80c60025",
   "metadata": {},
   "source": [
    "40.  Access the nested key increment from the following dictionary\n",
    "Access 12\n",
    "emp_dict = {\n",
    "    \"company\": {\n",
    "        \"employee\": {\n",
    "            \"name\": \"Jess\",\n",
    "            \"payable\": {\n",
    "                \"salary\": 9000,\n",
    "                \"increment\": 12\n",
    "            }\n",
    "        }\n",
    "    }\n",
    "}"
   ]
  },
  {
   "cell_type": "code",
   "execution_count": 12,
   "id": "5fcc11c4",
   "metadata": {},
   "outputs": [],
   "source": [
    "emp_dict = {\n",
    "    \"company\": {\n",
    "        \"employee\": {\n",
    "            \"name\": \"Jess\",\n",
    "            \"payable\": {\n",
    "                \"salary\": 9000,\n",
    "                \"increment\": 12\n",
    "            }\n",
    "        }\n",
    "    }\n",
    "}"
   ]
  },
  {
   "cell_type": "code",
   "execution_count": 14,
   "id": "651b4f37",
   "metadata": {},
   "outputs": [
    {
     "data": {
      "text/plain": [
       "12"
      ]
     },
     "execution_count": 14,
     "metadata": {},
     "output_type": "execute_result"
    }
   ],
   "source": [
    "emp_dict[\"company\"][\"employee\"][\"payable\"][\"increment\"]"
   ]
  },
  {
   "cell_type": "markdown",
   "id": "1cf20eac",
   "metadata": {},
   "source": [
    "41. Print the sum of the current number and the previous number\n",
    "Write a program to iterate the first 10 numbers and in each iteration, print the sum of the current and previous number.\n",
    "Printing current and previous number sum in a range(10)\n",
    "Current Number 0 Previous Number  0  Sum:  0\n",
    "Current Number 1 Previous Number  0  Sum:  1\n",
    "Current Number 2 Previous Number  1  Sum:  3\n",
    "Current Number 3 Previous Number  2  Sum:  5\n",
    "Current Number 4 Previous Number  3  Sum:  7\n",
    "Current Number 5 Previous Number  4  Sum:  9\n",
    "Current Number 6 Previous Number  5  Sum:  11\n",
    "Current Number 7 Previous Number  6  Sum:  13\n",
    "Current Number 8 Previous Number  7  Sum:  15\n",
    "Current Number 9 Previous Number  8  Sum:  17"
   ]
  },
  {
   "cell_type": "markdown",
   "id": "ebf4ef57",
   "metadata": {},
   "source": [
    "42. Print characters from a string that are present at an even index number\n",
    "Write a program to accept a string from the user and display characters that are present at an even index number.\n",
    "\n",
    "For example, str = \"ineuron\" so you should display ‘i’, ‘e’, ‘r’, ‘n’."
   ]
  },
  {
   "cell_type": "code",
   "execution_count": 25,
   "id": "64da63ab",
   "metadata": {},
   "outputs": [
    {
     "name": "stdout",
     "output_type": "stream",
     "text": [
      "enter string: iNeuron\n",
      "i e r n "
     ]
    }
   ],
   "source": [
    "x= input(\"enter string: \")\n",
    "for i in range(len(x)):\n",
    "    if i%2==0:\n",
    "        print(x[i], end=' ')\n"
   ]
  },
  {
   "cell_type": "markdown",
   "id": "f3bbd483",
   "metadata": {},
   "source": [
    "43. Print multiplication table form 1 to 10\n",
    "1  2 3 4 5 6 7 8 9 10 \t\t\n",
    "2  4 6 8 10 12 14 16 18 20 \t\t\n",
    "3  6 9 12 15 18 21 24 27 30 \t\t\n",
    "4  8 12 16 20 24 28 32 36 40 \t\t\n",
    "5  10 15 20 25 30 35 40 45 50 \t\t\n",
    "6  12 18 24 30 36 42 48 54 60 \t\t\n",
    "7  14 21 28 35 42 49 56 63 70 \t\t\n",
    "8  16 24 32 40 48 56 64 72 80 \t\t\n",
    "9  18 27 36 45 54 63 72 81 90 \t\t\n",
    "10 20 30 40 50 60 70 80 90 100 "
   ]
  },
  {
   "cell_type": "code",
   "execution_count": 80,
   "id": "ae563cf0",
   "metadata": {},
   "outputs": [
    {
     "name": "stdout",
     "output_type": "stream",
     "text": [
      "1 2 3 4 5 6 7 8 9 10 \n",
      "\n",
      "2 4 6 8 10 12 14 16 18 20 \n",
      "\n",
      "3 6 9 12 15 18 21 24 27 30 \n",
      "\n",
      "4 8 12 16 20 24 28 32 36 40 \n",
      "\n",
      "5 10 15 20 25 30 35 40 45 50 \n",
      "\n",
      "6 12 18 24 30 36 42 48 54 60 \n",
      "\n",
      "7 14 21 28 35 42 49 56 63 70 \n",
      "\n",
      "8 16 24 32 40 48 56 64 72 80 \n",
      "\n",
      "9 18 27 36 45 54 63 72 81 90 \n",
      "\n",
      "10 20 30 40 50 60 70 80 90 100 \n",
      "\n"
     ]
    }
   ],
   "source": [
    "for i in range(1,11):\n",
    "    for j in range(1,11):\n",
    "        print(j*i, end=' ')\n",
    "    print(\"\\n\")    \n",
    "        "
   ]
  },
  {
   "cell_type": "markdown",
   "id": "acfa75e4",
   "metadata": {},
   "source": [
    "44. Remove duplicates from a list and create a tuple and find the minimum and maximum number\n",
    "sample_list = [87, 45, 41, 65, 94, 41, 99, 94]\n",
    "Expected Outcome:\n",
    "unique items [87, 45, 41, 65, 99]\n",
    "tuple (87, 45, 41, 65, 99)\n",
    "min: 41\n",
    "max: 99"
   ]
  },
  {
   "cell_type": "code",
   "execution_count": 30,
   "id": "bfae705b",
   "metadata": {},
   "outputs": [
    {
     "name": "stdout",
     "output_type": "stream",
     "text": [
      "(65, 99, 41, 45, 87, 94)\n",
      "max=  99\n",
      "min=  41\n"
     ]
    }
   ],
   "source": [
    "sample_list = [87, 45, 41, 65, 94, 41, 99, 94]\n",
    "List = list(set(sample_list))\n",
    "print(tuple(List))\n",
    "print(\"max= \", max(List))\n",
    "print(\"min= \", min(List))\n"
   ]
  },
  {
   "cell_type": "markdown",
   "id": "911a7c3b",
   "metadata": {},
   "source": [
    "45. Write a Python program to create a lambda function that adds 15 to a given number passed in as an argument,\n",
    "also create a lambda function\n",
    "that multiplies argument x with argument y and print the result."
   ]
  },
  {
   "cell_type": "code",
   "execution_count": 37,
   "id": "4d666a6d",
   "metadata": {},
   "outputs": [],
   "source": [
    "c= lambda a: a+15\n",
    "d= lambda x,y : x*y"
   ]
  },
  {
   "cell_type": "code",
   "execution_count": 38,
   "id": "ddd598d5",
   "metadata": {},
   "outputs": [
    {
     "data": {
      "text/plain": [
       "35"
      ]
     },
     "execution_count": 38,
     "metadata": {},
     "output_type": "execute_result"
    }
   ],
   "source": [
    "c(20)"
   ]
  },
  {
   "cell_type": "code",
   "execution_count": 39,
   "id": "934363d9",
   "metadata": {},
   "outputs": [
    {
     "data": {
      "text/plain": [
       "30"
      ]
     },
     "execution_count": 39,
     "metadata": {},
     "output_type": "execute_result"
    }
   ],
   "source": [
    "d(15,2)"
   ]
  },
  {
   "cell_type": "markdown",
   "id": "6711dd9b",
   "metadata": {},
   "source": [
    "46. Write a Python program to sort a list of tuples using Lambda."
   ]
  },
  {
   "cell_type": "code",
   "execution_count": 56,
   "id": "441fdc54",
   "metadata": {},
   "outputs": [],
   "source": [
    "a = lambda l: sorted(l)"
   ]
  },
  {
   "cell_type": "code",
   "execution_count": 57,
   "id": "bb7c9ca8",
   "metadata": {},
   "outputs": [],
   "source": [
    "l= [(15,12),(1,2),(1,2,3),(10,11,12)]"
   ]
  },
  {
   "cell_type": "code",
   "execution_count": 58,
   "id": "7f5f2033",
   "metadata": {},
   "outputs": [
    {
     "data": {
      "text/plain": [
       "[(1, 2), (1, 2, 3), (10, 11, 12), (15, 12)]"
      ]
     },
     "execution_count": 58,
     "metadata": {},
     "output_type": "execute_result"
    }
   ],
   "source": [
    "a(l)"
   ]
  },
  {
   "cell_type": "markdown",
   "id": "2340be34",
   "metadata": {},
   "source": [
    "47. Write a Python program to extract year, month, date and time using Lambda."
   ]
  },
  {
   "cell_type": "code",
   "execution_count": 12,
   "id": "08621e7f",
   "metadata": {},
   "outputs": [],
   "source": [
    "import time"
   ]
  },
  {
   "cell_type": "code",
   "execution_count": 14,
   "id": "2027cf3a",
   "metadata": {},
   "outputs": [
    {
     "name": "stdout",
     "output_type": "stream",
     "text": [
      "time.struct_time(tm_year=2022, tm_mon=12, tm_mday=19, tm_hour=11, tm_min=13, tm_sec=13, tm_wday=0, tm_yday=353, tm_isdst=0)\n"
     ]
    }
   ],
   "source": [
    "print(time.localtime())"
   ]
  },
  {
   "cell_type": "code",
   "execution_count": 16,
   "id": "566da712",
   "metadata": {},
   "outputs": [
    {
     "data": {
      "text/plain": [
       "1671428727.6923106"
      ]
     },
     "execution_count": 16,
     "metadata": {},
     "output_type": "execute_result"
    }
   ],
   "source": [
    "time.time()"
   ]
  },
  {
   "cell_type": "code",
   "execution_count": 10,
   "id": "c82ea4cd",
   "metadata": {},
   "outputs": [
    {
     "name": "stdout",
     "output_type": "stream",
     "text": [
      "   December 2022\n",
      "Mo Tu We Th Fr Sa Su\n",
      "          1  2  3  4\n",
      " 5  6  7  8  9 10 11\n",
      "12 13 14 15 16 17 18\n",
      "19 20 21 22 23 24 25\n",
      "26 27 28 29 30 31\n",
      "\n"
     ]
    }
   ],
   "source": [
    "print(calendar.month(2022,12))"
   ]
  },
  {
   "cell_type": "markdown",
   "id": "a546ca51",
   "metadata": {},
   "source": [
    "48. Write a Python program to count the even, odd numbers in a given array of integers."
   ]
  },
  {
   "cell_type": "code",
   "execution_count": 62,
   "id": "4b04c818",
   "metadata": {},
   "outputs": [
    {
     "name": "stdout",
     "output_type": "stream",
     "text": [
      "Even Nos count:  4\n",
      "Odd Nos count:  5\n"
     ]
    }
   ],
   "source": [
    "arr = [1,2,3,4,5,6,7,8,9]\n",
    "ev_count = 0\n",
    "od_count = 0\n",
    "for i in arr:\n",
    "    if i%2 == 0:\n",
    "        ev_count+=1\n",
    "    else:\n",
    "        od_count+=1\n",
    "print(\"Even Nos count: \", ev_count)  \n",
    "print(\"Odd Nos count: \", od_count)\n",
    "        "
   ]
  },
  {
   "cell_type": "markdown",
   "id": "f38c94e3",
   "metadata": {},
   "source": [
    "49. Write a Python program to convert all the characters in uppercase and lowercase and eliminate duplicate letters from a given sequence.\n",
    "Use map() function."
   ]
  },
  {
   "cell_type": "code",
   "execution_count": 51,
   "id": "f6c5037a",
   "metadata": {},
   "outputs": [],
   "source": [
    "x = \"Apple\""
   ]
  },
  {
   "cell_type": "code",
   "execution_count": 56,
   "id": "4953dab2",
   "metadata": {},
   "outputs": [],
   "source": [
    "y= list(map(lambda a: a.upper(),x))"
   ]
  },
  {
   "cell_type": "code",
   "execution_count": 57,
   "id": "0c47f62d",
   "metadata": {},
   "outputs": [
    {
     "name": "stdout",
     "output_type": "stream",
     "text": [
      "['A', 'P', 'P', 'L', 'E']\n"
     ]
    }
   ],
   "source": [
    "print(y)"
   ]
  },
  {
   "cell_type": "code",
   "execution_count": 58,
   "id": "e9a469b5",
   "metadata": {},
   "outputs": [],
   "source": [
    "z= list(map(lambda a: a.lower(),x))"
   ]
  },
  {
   "cell_type": "code",
   "execution_count": 59,
   "id": "88a6ae92",
   "metadata": {},
   "outputs": [
    {
     "name": "stdout",
     "output_type": "stream",
     "text": [
      "['a', 'p', 'p', 'l', 'e']\n"
     ]
    }
   ],
   "source": [
    "print(z)"
   ]
  },
  {
   "cell_type": "code",
   "execution_count": 60,
   "id": "bdbc194f",
   "metadata": {},
   "outputs": [
    {
     "data": {
      "text/plain": [
       "['L', 'A', 'E', 'P']"
      ]
     },
     "execution_count": 60,
     "metadata": {},
     "output_type": "execute_result"
    }
   ],
   "source": [
    "list(set(y))"
   ]
  },
  {
   "cell_type": "code",
   "execution_count": 61,
   "id": "113b86a4",
   "metadata": {},
   "outputs": [
    {
     "data": {
      "text/plain": [
       "['p', 'l', 'a', 'e']"
      ]
     },
     "execution_count": 61,
     "metadata": {},
     "output_type": "execute_result"
    }
   ],
   "source": [
    "list(set(z))"
   ]
  },
  {
   "cell_type": "markdown",
   "id": "1d01bc9d",
   "metadata": {},
   "source": [
    "50.  Write a Python program to square the elements of a list using map() function."
   ]
  },
  {
   "cell_type": "code",
   "execution_count": 23,
   "id": "9601c29b",
   "metadata": {},
   "outputs": [],
   "source": [
    "l= [1,2,3,4,5,6,7,8,9]"
   ]
  },
  {
   "cell_type": "code",
   "execution_count": 49,
   "id": "fefa95a0",
   "metadata": {},
   "outputs": [
    {
     "data": {
      "text/plain": [
       "[1, 4, 9, 16, 25, 36, 49, 64, 81]"
      ]
     },
     "execution_count": 49,
     "metadata": {},
     "output_type": "execute_result"
    }
   ],
   "source": [
    "list(map(lambda a: a**2,l))"
   ]
  },
  {
   "cell_type": "code",
   "execution_count": null,
   "id": "dfe33c66",
   "metadata": {},
   "outputs": [],
   "source": []
  }
 ],
 "metadata": {
  "kernelspec": {
   "display_name": "Python 3 (ipykernel)",
   "language": "python",
   "name": "python3"
  },
  "language_info": {
   "codemirror_mode": {
    "name": "ipython",
    "version": 3
   },
   "file_extension": ".py",
   "mimetype": "text/x-python",
   "name": "python",
   "nbconvert_exporter": "python",
   "pygments_lexer": "ipython3",
   "version": "3.9.12"
  }
 },
 "nbformat": 4,
 "nbformat_minor": 5
}
